{
 "cells": [
  {
   "cell_type": "code",
   "execution_count": 27,
   "id": "c8dc07e5-3855-4c60-a554-da72e7066f7b",
   "metadata": {},
   "outputs": [],
   "source": [
    "import pandas as pd\n",
    "from pathlib import Path\n",
    "from sklearn.ensemble import RandomForestClassifier\n",
    "from sklearn.preprocessing import StandardScaler\n",
    "from sklearn.model_selection import train_test_split\n",
    "from sklearn.metrics import confusion_matrix, accuracy_score, classification_report\n",
    "from sklearn.feature_extraction.text import TfidfVectorizer\n",
    "from sklearn.preprocessing import LabelEncoder\n",
    "from sklearn.preprocessing import MaxAbsScaler\n",
    "import numpy as np\n",
    "import pickle\n",
    "%matplotlib inline"
   ]
  },
  {
   "cell_type": "code",
   "execution_count": 2,
   "id": "04e219e9-12bc-433d-8459-0e024884fdea",
   "metadata": {
    "scrolled": true
   },
   "outputs": [
    {
     "data": {
      "text/html": [
       "<div>\n",
       "<style scoped>\n",
       "    .dataframe tbody tr th:only-of-type {\n",
       "        vertical-align: middle;\n",
       "    }\n",
       "\n",
       "    .dataframe tbody tr th {\n",
       "        vertical-align: top;\n",
       "    }\n",
       "\n",
       "    .dataframe thead th {\n",
       "        text-align: right;\n",
       "    }\n",
       "</style>\n",
       "<table border=\"1\" class=\"dataframe\">\n",
       "  <thead>\n",
       "    <tr style=\"text-align: right;\">\n",
       "      <th></th>\n",
       "      <th>Consumer complaint narrative</th>\n",
       "      <th>Product</th>\n",
       "    </tr>\n",
       "  </thead>\n",
       "  <tbody>\n",
       "    <tr>\n",
       "      <th>0</th>\n",
       "      <td>privacy following year list item informationis...</td>\n",
       "      <td>Credit reporting or other personal consumer re...</td>\n",
       "    </tr>\n",
       "    <tr>\n",
       "      <th>1</th>\n",
       "      <td>didnt report xxxx opened account knwledge til ...</td>\n",
       "      <td>Credit reporting or other personal consumer re...</td>\n",
       "    </tr>\n",
       "    <tr>\n",
       "      <th>2</th>\n",
       "      <td>issue call year stop paid transfer phone tryin...</td>\n",
       "      <td>Debt collection</td>\n",
       "    </tr>\n",
       "    <tr>\n",
       "      <th>3</th>\n",
       "      <td>privacy following year list item record relati...</td>\n",
       "      <td>Credit reporting or other personal consumer re...</td>\n",
       "    </tr>\n",
       "    <tr>\n",
       "      <th>4</th>\n",
       "      <td>harm requesting desist charge individual feder...</td>\n",
       "      <td>Debt collection</td>\n",
       "    </tr>\n",
       "  </tbody>\n",
       "</table>\n",
       "</div>"
      ],
      "text/plain": [
       "                        Consumer complaint narrative  \\\n",
       "0  privacy following year list item informationis...   \n",
       "1  didnt report xxxx opened account knwledge til ...   \n",
       "2  issue call year stop paid transfer phone tryin...   \n",
       "3  privacy following year list item record relati...   \n",
       "4  harm requesting desist charge individual feder...   \n",
       "\n",
       "                                             Product  \n",
       "0  Credit reporting or other personal consumer re...  \n",
       "1  Credit reporting or other personal consumer re...  \n",
       "2                                    Debt collection  \n",
       "3  Credit reporting or other personal consumer re...  \n",
       "4                                    Debt collection  "
      ]
     },
     "execution_count": 2,
     "metadata": {},
     "output_type": "execute_result"
    }
   ],
   "source": [
    "# Loading data\n",
    "customer_complaints_df = pd.read_csv(\"../Resources/ModelData/train_test_data.csv\")\n",
    "customer_complaints_df.head()"
   ]
  },
  {
   "cell_type": "code",
   "execution_count": 3,
   "id": "80b038da-fc7c-4d01-bec8-5c735c8b36cc",
   "metadata": {},
   "outputs": [
    {
     "data": {
      "text/plain": [
       "0    privacy following year list item informationis...\n",
       "1    didnt report xxxx opened account knwledge til ...\n",
       "2    issue call year stop paid transfer phone tryin...\n",
       "3    privacy following year list item record relati...\n",
       "4    harm requesting desist charge individual feder...\n",
       "Name: Consumer complaint narrative, dtype: object"
      ]
     },
     "execution_count": 3,
     "metadata": {},
     "output_type": "execute_result"
    }
   ],
   "source": [
    "# Define features set\n",
    "X = customer_complaints_df['Consumer complaint narrative']\n",
    "X.head()"
   ]
  },
  {
   "cell_type": "code",
   "execution_count": 4,
   "id": "207c3760-06d8-4c3f-b5c0-468ce17212eb",
   "metadata": {},
   "outputs": [
    {
     "data": {
      "text/plain": [
       "0    Credit reporting or other personal consumer re...\n",
       "1    Credit reporting or other personal consumer re...\n",
       "2                                      Debt collection\n",
       "3    Credit reporting or other personal consumer re...\n",
       "4                                      Debt collection\n",
       "Name: Product, dtype: object"
      ]
     },
     "execution_count": 4,
     "metadata": {},
     "output_type": "execute_result"
    }
   ],
   "source": [
    "# Define target vector\n",
    "y = customer_complaints_df['Product']\n",
    "y.head()"
   ]
  },
  {
   "cell_type": "code",
   "execution_count": 5,
   "id": "7fa6c2d5-988a-4e31-b517-ca4d32e17b63",
   "metadata": {},
   "outputs": [
    {
     "name": "stdout",
     "output_type": "stream",
     "text": [
      "Training features: (81420,)\n",
      "Testing features: (20356,)\n",
      "Training labels: (81420,)\n",
      "Testing labels: (20356,)\n"
     ]
    }
   ],
   "source": [
    "# Split the data into training and testing sets\n",
    "X_train, X_test, y_train, y_test = train_test_split(X, y, test_size=0.2, random_state=42)\n",
    "\n",
    "# Display the sizes of each set\n",
    "print(\"Training features:\", X_train.shape)\n",
    "print(\"Testing features:\", X_test.shape)\n",
    "print(\"Training labels:\", y_train.shape)\n",
    "print(\"Testing labels:\", y_test.shape)"
   ]
  },
  {
   "cell_type": "code",
   "execution_count": 6,
   "id": "13303605-bde1-4c4c-9fa9-a92cb0883caf",
   "metadata": {},
   "outputs": [],
   "source": [
    "# Creating StandardScaler instance\n",
    "scaler = StandardScaler() "
   ]
  },
  {
   "cell_type": "code",
   "execution_count": 7,
   "id": "d68825ae-0177-4371-a8e5-6c91ac66f646",
   "metadata": {},
   "outputs": [],
   "source": [
    "X_train, X_test, y_train, y_test = train_test_split(\n",
    "    customer_complaints_df['Consumer complaint narrative'],\n",
    "    customer_complaints_df['Product'],\n",
    "    test_size=0.2,\n",
    "    random_state=42\n",
    ")"
   ]
  },
  {
   "cell_type": "code",
   "execution_count": 8,
   "id": "e5f4ecfe-e836-4eb4-9beb-2ee8afc8f13c",
   "metadata": {},
   "outputs": [],
   "source": [
    "# Convert text data to TF-IDF features\n",
    "tfidf_vectorizer = TfidfVectorizer(max_features=5000) # Use the top 5000 words\n",
    "X_train_tfidf = tfidf_vectorizer.fit_transform(X_train)\n",
    "X_test_tfidf = tfidf_vectorizer.transform(X_test)"
   ]
  },
  {
   "cell_type": "code",
   "execution_count": 9,
   "id": "fac078cf-50fd-4023-8f43-1b090fc35587",
   "metadata": {},
   "outputs": [],
   "source": [
    "# Preprocess categorical features using one-hot encoding\n",
    "label_encoder = LabelEncoder()\n",
    "labels = customer_complaints_df['Product']\n",
    "y = label_encoder.fit_transform(labels)"
   ]
  },
  {
   "cell_type": "code",
   "execution_count": 10,
   "id": "7764a085-2910-47d5-a4c5-264e59b32545",
   "metadata": {},
   "outputs": [],
   "source": [
    "y_train = label_encoder.fit_transform(y_train)\n",
    "y_test = label_encoder.transform(y_test)"
   ]
  },
  {
   "cell_type": "code",
   "execution_count": 11,
   "id": "04891277-ff41-436d-81fb-2e5272a2af4c",
   "metadata": {},
   "outputs": [],
   "source": [
    "# Fitting Standard Scaller\n",
    "X_train_dense = X_train_tfidf.toarray()\n",
    "X_scaler = scaler.fit(X_train_dense)"
   ]
  },
  {
   "cell_type": "code",
   "execution_count": 12,
   "id": "2eb7162a-8a4e-4a19-9368-91fc934c32b0",
   "metadata": {},
   "outputs": [],
   "source": [
    "# Scaling data\n",
    "max_abs_scaler = MaxAbsScaler()\n",
    "X_train_scaled = max_abs_scaler.fit_transform(X_train_tfidf)\n",
    "X_test_scaled = max_abs_scaler.transform(X_test_tfidf)"
   ]
  },
  {
   "cell_type": "code",
   "execution_count": 13,
   "id": "3821cf2f-ff3e-40a7-876f-a0450b141872",
   "metadata": {},
   "outputs": [],
   "source": [
    "# Create a random forest classifier\n",
    "rf_model = RandomForestClassifier(n_estimators=500, random_state=78)"
   ]
  },
  {
   "cell_type": "code",
   "execution_count": 14,
   "id": "d814ef70-91f0-42ed-b125-0d7ff933635e",
   "metadata": {},
   "outputs": [],
   "source": [
    "# Fitting the model\n",
    "rf_model = rf_model.fit(X_train_scaled, y_train)"
   ]
  },
  {
   "cell_type": "code",
   "execution_count": 15,
   "id": "193a4aa2-daab-4e21-8f33-ebc464bb9367",
   "metadata": {},
   "outputs": [],
   "source": [
    "# Making predictions using the testing data\n",
    "predictions = rf_model.predict(X_test_scaled)"
   ]
  },
  {
   "cell_type": "code",
   "execution_count": 19,
   "id": "8f0a449f-0f9d-4980-a2eb-68b7e218cd08",
   "metadata": {},
   "outputs": [
    {
     "name": "stdout",
     "output_type": "stream",
     "text": [
      "           Predicted 0  Predicted 1  Predicted 2  Predicted 3  Predicted 4  \\\n",
      "Actual 0           631           30           78            1            0   \n",
      "Actual 1            56          534          212           13            0   \n",
      "Actual 2            11           17        15966           73            0   \n",
      "Actual 3            14           19          545         1088            0   \n",
      "Actual 4             2            4           15            4            0   \n",
      "Actual 5           158           14           29            1            0   \n",
      "Actual 6            16           10           72            3            0   \n",
      "Actual 7            15           17           53            9            0   \n",
      "Actual 8            24           12           11            1            0   \n",
      "Actual 9             6            2           46            6            0   \n",
      "Actual 10           15           17           95           19            0   \n",
      "\n",
      "           Predicted 5  Predicted 6  Predicted 7  Predicted 8  Predicted 9  \\\n",
      "Actual 0             3            2            0            0            0   \n",
      "Actual 1             0            1            0            0            0   \n",
      "Actual 2             0            3            0            0            0   \n",
      "Actual 3             0            2            0            0            0   \n",
      "Actual 4             0            1            0            0            0   \n",
      "Actual 5            11            2            0            0            1   \n",
      "Actual 6             0          221            0            0            0   \n",
      "Actual 7             0            6            3            0            8   \n",
      "Actual 8             0            0            0            4            0   \n",
      "Actual 9             0            3            0            0           92   \n",
      "Actual 10            0            6            0            0            0   \n",
      "\n",
      "           Predicted 10  \n",
      "Actual 0              1  \n",
      "Actual 1              0  \n",
      "Actual 2              0  \n",
      "Actual 3              1  \n",
      "Actual 4              0  \n",
      "Actual 5              0  \n",
      "Actual 6              0  \n",
      "Actual 7              1  \n",
      "Actual 8              0  \n",
      "Actual 9              0  \n",
      "Actual 10            20  \n",
      "Accuracy Score: 0.9122617410100217\n"
     ]
    }
   ],
   "source": [
    "# Assuming y_test and predictions are available\n",
    "cm = confusion_matrix(y_test, predictions)\n",
    "\n",
    "# Check unique classes in y_test and predictions\n",
    "classes = np.unique(np.concatenate((y_test, predictions)))\n",
    "class_labels = [f\"Class {label}\" for label in classes]\n",
    "\n",
    "# Create DataFrame for the confusion matrix\n",
    "cm_df = pd.DataFrame(cm, index=[f\"Actual {label}\" for label in classes],\n",
    "                     columns=[f\"Predicted {label}\" for label in classes])\n",
    "\n",
    "# Display confusion matrix DataFrame\n",
    "print(cm_df)\n",
    "\n",
    "# Calculate accuracy score\n",
    "acc_score = accuracy_score(y_test, predictions)\n",
    "print(\"Accuracy Score:\", acc_score)"
   ]
  },
  {
   "cell_type": "code",
   "execution_count": 20,
   "id": "7dc89a65-f293-4d3d-a943-c9b9fa345b67",
   "metadata": {},
   "outputs": [
    {
     "name": "stdout",
     "output_type": "stream",
     "text": [
      "Confusion Matrix\n"
     ]
    },
    {
     "data": {
      "text/html": [
       "<div>\n",
       "<style scoped>\n",
       "    .dataframe tbody tr th:only-of-type {\n",
       "        vertical-align: middle;\n",
       "    }\n",
       "\n",
       "    .dataframe tbody tr th {\n",
       "        vertical-align: top;\n",
       "    }\n",
       "\n",
       "    .dataframe thead th {\n",
       "        text-align: right;\n",
       "    }\n",
       "</style>\n",
       "<table border=\"1\" class=\"dataframe\">\n",
       "  <thead>\n",
       "    <tr style=\"text-align: right;\">\n",
       "      <th></th>\n",
       "      <th>Predicted 0</th>\n",
       "      <th>Predicted 1</th>\n",
       "      <th>Predicted 2</th>\n",
       "      <th>Predicted 3</th>\n",
       "      <th>Predicted 4</th>\n",
       "      <th>Predicted 5</th>\n",
       "      <th>Predicted 6</th>\n",
       "      <th>Predicted 7</th>\n",
       "      <th>Predicted 8</th>\n",
       "      <th>Predicted 9</th>\n",
       "      <th>Predicted 10</th>\n",
       "    </tr>\n",
       "  </thead>\n",
       "  <tbody>\n",
       "    <tr>\n",
       "      <th>Actual 0</th>\n",
       "      <td>631</td>\n",
       "      <td>30</td>\n",
       "      <td>78</td>\n",
       "      <td>1</td>\n",
       "      <td>0</td>\n",
       "      <td>3</td>\n",
       "      <td>2</td>\n",
       "      <td>0</td>\n",
       "      <td>0</td>\n",
       "      <td>0</td>\n",
       "      <td>1</td>\n",
       "    </tr>\n",
       "    <tr>\n",
       "      <th>Actual 1</th>\n",
       "      <td>56</td>\n",
       "      <td>534</td>\n",
       "      <td>212</td>\n",
       "      <td>13</td>\n",
       "      <td>0</td>\n",
       "      <td>0</td>\n",
       "      <td>1</td>\n",
       "      <td>0</td>\n",
       "      <td>0</td>\n",
       "      <td>0</td>\n",
       "      <td>0</td>\n",
       "    </tr>\n",
       "    <tr>\n",
       "      <th>Actual 2</th>\n",
       "      <td>11</td>\n",
       "      <td>17</td>\n",
       "      <td>15966</td>\n",
       "      <td>73</td>\n",
       "      <td>0</td>\n",
       "      <td>0</td>\n",
       "      <td>3</td>\n",
       "      <td>0</td>\n",
       "      <td>0</td>\n",
       "      <td>0</td>\n",
       "      <td>0</td>\n",
       "    </tr>\n",
       "    <tr>\n",
       "      <th>Actual 3</th>\n",
       "      <td>14</td>\n",
       "      <td>19</td>\n",
       "      <td>545</td>\n",
       "      <td>1088</td>\n",
       "      <td>0</td>\n",
       "      <td>0</td>\n",
       "      <td>2</td>\n",
       "      <td>0</td>\n",
       "      <td>0</td>\n",
       "      <td>0</td>\n",
       "      <td>1</td>\n",
       "    </tr>\n",
       "    <tr>\n",
       "      <th>Actual 4</th>\n",
       "      <td>2</td>\n",
       "      <td>4</td>\n",
       "      <td>15</td>\n",
       "      <td>4</td>\n",
       "      <td>0</td>\n",
       "      <td>0</td>\n",
       "      <td>1</td>\n",
       "      <td>0</td>\n",
       "      <td>0</td>\n",
       "      <td>0</td>\n",
       "      <td>0</td>\n",
       "    </tr>\n",
       "    <tr>\n",
       "      <th>Actual 5</th>\n",
       "      <td>158</td>\n",
       "      <td>14</td>\n",
       "      <td>29</td>\n",
       "      <td>1</td>\n",
       "      <td>0</td>\n",
       "      <td>11</td>\n",
       "      <td>2</td>\n",
       "      <td>0</td>\n",
       "      <td>0</td>\n",
       "      <td>1</td>\n",
       "      <td>0</td>\n",
       "    </tr>\n",
       "    <tr>\n",
       "      <th>Actual 6</th>\n",
       "      <td>16</td>\n",
       "      <td>10</td>\n",
       "      <td>72</td>\n",
       "      <td>3</td>\n",
       "      <td>0</td>\n",
       "      <td>0</td>\n",
       "      <td>221</td>\n",
       "      <td>0</td>\n",
       "      <td>0</td>\n",
       "      <td>0</td>\n",
       "      <td>0</td>\n",
       "    </tr>\n",
       "    <tr>\n",
       "      <th>Actual 7</th>\n",
       "      <td>15</td>\n",
       "      <td>17</td>\n",
       "      <td>53</td>\n",
       "      <td>9</td>\n",
       "      <td>0</td>\n",
       "      <td>0</td>\n",
       "      <td>6</td>\n",
       "      <td>3</td>\n",
       "      <td>0</td>\n",
       "      <td>8</td>\n",
       "      <td>1</td>\n",
       "    </tr>\n",
       "    <tr>\n",
       "      <th>Actual 8</th>\n",
       "      <td>24</td>\n",
       "      <td>12</td>\n",
       "      <td>11</td>\n",
       "      <td>1</td>\n",
       "      <td>0</td>\n",
       "      <td>0</td>\n",
       "      <td>0</td>\n",
       "      <td>0</td>\n",
       "      <td>4</td>\n",
       "      <td>0</td>\n",
       "      <td>0</td>\n",
       "    </tr>\n",
       "    <tr>\n",
       "      <th>Actual 9</th>\n",
       "      <td>6</td>\n",
       "      <td>2</td>\n",
       "      <td>46</td>\n",
       "      <td>6</td>\n",
       "      <td>0</td>\n",
       "      <td>0</td>\n",
       "      <td>3</td>\n",
       "      <td>0</td>\n",
       "      <td>0</td>\n",
       "      <td>92</td>\n",
       "      <td>0</td>\n",
       "    </tr>\n",
       "    <tr>\n",
       "      <th>Actual 10</th>\n",
       "      <td>15</td>\n",
       "      <td>17</td>\n",
       "      <td>95</td>\n",
       "      <td>19</td>\n",
       "      <td>0</td>\n",
       "      <td>0</td>\n",
       "      <td>6</td>\n",
       "      <td>0</td>\n",
       "      <td>0</td>\n",
       "      <td>0</td>\n",
       "      <td>20</td>\n",
       "    </tr>\n",
       "  </tbody>\n",
       "</table>\n",
       "</div>"
      ],
      "text/plain": [
       "           Predicted 0  Predicted 1  Predicted 2  Predicted 3  Predicted 4  \\\n",
       "Actual 0           631           30           78            1            0   \n",
       "Actual 1            56          534          212           13            0   \n",
       "Actual 2            11           17        15966           73            0   \n",
       "Actual 3            14           19          545         1088            0   \n",
       "Actual 4             2            4           15            4            0   \n",
       "Actual 5           158           14           29            1            0   \n",
       "Actual 6            16           10           72            3            0   \n",
       "Actual 7            15           17           53            9            0   \n",
       "Actual 8            24           12           11            1            0   \n",
       "Actual 9             6            2           46            6            0   \n",
       "Actual 10           15           17           95           19            0   \n",
       "\n",
       "           Predicted 5  Predicted 6  Predicted 7  Predicted 8  Predicted 9  \\\n",
       "Actual 0             3            2            0            0            0   \n",
       "Actual 1             0            1            0            0            0   \n",
       "Actual 2             0            3            0            0            0   \n",
       "Actual 3             0            2            0            0            0   \n",
       "Actual 4             0            1            0            0            0   \n",
       "Actual 5            11            2            0            0            1   \n",
       "Actual 6             0          221            0            0            0   \n",
       "Actual 7             0            6            3            0            8   \n",
       "Actual 8             0            0            0            4            0   \n",
       "Actual 9             0            3            0            0           92   \n",
       "Actual 10            0            6            0            0            0   \n",
       "\n",
       "           Predicted 10  \n",
       "Actual 0              1  \n",
       "Actual 1              0  \n",
       "Actual 2              0  \n",
       "Actual 3              1  \n",
       "Actual 4              0  \n",
       "Actual 5              0  \n",
       "Actual 6              0  \n",
       "Actual 7              1  \n",
       "Actual 8              0  \n",
       "Actual 9              0  \n",
       "Actual 10            20  "
      ]
     },
     "metadata": {},
     "output_type": "display_data"
    },
    {
     "name": "stdout",
     "output_type": "stream",
     "text": [
      "Accuracy Score : 0.9122617410100217\n",
      "Classification Report\n",
      "              precision    recall  f1-score   support\n",
      "\n",
      "           0       0.67      0.85      0.74       746\n",
      "           1       0.79      0.65      0.72       816\n",
      "           2       0.93      0.99      0.96     16070\n",
      "           3       0.89      0.65      0.75      1669\n",
      "           4       0.00      0.00      0.00        26\n",
      "           5       0.79      0.05      0.10       216\n",
      "           6       0.89      0.69      0.78       322\n",
      "           7       1.00      0.03      0.05       112\n",
      "           8       1.00      0.08      0.14        52\n",
      "           9       0.91      0.59      0.72       155\n",
      "          10       0.87      0.12      0.21       172\n",
      "\n",
      "    accuracy                           0.91     20356\n",
      "   macro avg       0.79      0.43      0.47     20356\n",
      "weighted avg       0.91      0.91      0.90     20356\n",
      "\n"
     ]
    },
    {
     "name": "stderr",
     "output_type": "stream",
     "text": [
      "/opt/anaconda3/envs/pythondata/lib/python3.10/site-packages/sklearn/metrics/_classification.py:1509: UndefinedMetricWarning: Precision is ill-defined and being set to 0.0 in labels with no predicted samples. Use `zero_division` parameter to control this behavior.\n",
      "  _warn_prf(average, modifier, f\"{metric.capitalize()} is\", len(result))\n",
      "/opt/anaconda3/envs/pythondata/lib/python3.10/site-packages/sklearn/metrics/_classification.py:1509: UndefinedMetricWarning: Precision is ill-defined and being set to 0.0 in labels with no predicted samples. Use `zero_division` parameter to control this behavior.\n",
      "  _warn_prf(average, modifier, f\"{metric.capitalize()} is\", len(result))\n",
      "/opt/anaconda3/envs/pythondata/lib/python3.10/site-packages/sklearn/metrics/_classification.py:1509: UndefinedMetricWarning: Precision is ill-defined and being set to 0.0 in labels with no predicted samples. Use `zero_division` parameter to control this behavior.\n",
      "  _warn_prf(average, modifier, f\"{metric.capitalize()} is\", len(result))\n"
     ]
    }
   ],
   "source": [
    "# Displaying results\n",
    "print(\"Confusion Matrix\")\n",
    "display(cm_df)\n",
    "print(f\"Accuracy Score : {acc_score}\")\n",
    "print(\"Classification Report\")\n",
    "print(classification_report(y_test, predictions))"
   ]
  },
  {
   "cell_type": "code",
   "execution_count": 23,
   "id": "93c6fdc9-74d7-45a3-b2fb-df16cb3b70f0",
   "metadata": {},
   "outputs": [],
   "source": [
    "if isinstance(X, pd.Series):\n",
    "    X = X.to_frame()  # Converts the Series to a DataFrame"
   ]
  },
  {
   "cell_type": "code",
   "execution_count": 24,
   "id": "211a3804-06ed-44a6-a44b-06cfe473e6a1",
   "metadata": {},
   "outputs": [
    {
     "data": {
      "text/plain": [
       "[(0.006902698352980861, 'Consumer complaint narrative')]"
      ]
     },
     "execution_count": 24,
     "metadata": {},
     "output_type": "execute_result"
    }
   ],
   "source": [
    "# Random Forests in sklearn will automatically calculate feature importance\n",
    "importances = rf_model.feature_importances_\n",
    "# We can sort the features by their importance\n",
    "sorted(zip(rf_model.feature_importances_, X.columns), reverse=True)"
   ]
  },
  {
   "cell_type": "code",
   "execution_count": 25,
   "id": "920e7c50-9790-41f6-8bad-83ca83edde4f",
   "metadata": {},
   "outputs": [
    {
     "data": {
      "text/plain": [
       "<Axes: title={'center': 'Features Importances'}, ylabel='1'>"
      ]
     },
     "execution_count": 25,
     "metadata": {},
     "output_type": "execute_result"
    },
    {
     "data": {
      "image/png": "[encoded data removed]",
      "text/plain": [
       "<Figure size 640x480 with 1 Axes>"
      ]
     },
     "metadata": {},
     "output_type": "display_data"
    }
   ],
   "source": [
    "# Visualize the features by importance\n",
    "importances_df = pd.DataFrame(sorted(zip(rf_model.feature_importances_, X.columns), reverse=True))\n",
    "importances_df.set_index(importances_df[1], inplace=True)\n",
    "importances_df.drop(columns=1, inplace=True)\n",
    "importances_df.rename(columns={0: 'Feature Importances'}, inplace=True)\n",
    "importances_sorted = importances_df.sort_values(by='Feature Importances')\n",
    "importances_sorted.plot(kind='barh', color='lightgreen', title= 'Features Importances', legend=False)"
   ]
  },
  {
   "cell_type": "code",
   "execution_count": 29,
   "id": "ba86f24e-8d3a-4ad3-9cc6-39afe815b9ba",
   "metadata": {},
   "outputs": [
    {
     "name": "stdout",
     "output_type": "stream",
     "text": [
      "Random Forest Model and vectorizer saved with pickle.\n"
     ]
    }
   ],
   "source": [
    "# Save the model\n",
    "with open('../Resources/ModelData/random_forest_model_A.pkl', 'wb') as model_file:\n",
    "    pickle.dump(rf_model, model_file)\n",
    "# Save the vectorizer\n",
    "with open('../Resources/ModelData/tfidf_vectorizer_A.pkl', 'wb') as vectorizer_file:\n",
    "    pickle.dump(tfidf_vectorizer, vectorizer_file)\n",
    "print(\"Random Forest Model and vectorizer saved with pickle.\")"
   ]
  },
  {
   "cell_type": "code",
   "execution_count": 36,
   "id": "cf1164ba-a23e-4de1-8653-af0045e7ce6f",
   "metadata": {},
   "outputs": [],
   "source": [
    "# Load the model\n",
    "with open('../Resources/ModelData/random_forest_model_A.pkl', 'rb') as model_file:\n",
    "    loaded_model = pickle.load(model_file)\n",
    "# Load the vectorizer\n",
    "with open('../Resources/ModelData/tfidf_vectorizer_A.pkl', 'rb') as vectorizer_file:\n",
    "    loaded_vectorizer = pickle.load(vectorizer_file)"
   ]
  },
  {
   "cell_type": "code",
   "execution_count": 37,
   "id": "410cf1f6-4a48-4cb1-b7e9-3ea76b65b4c0",
   "metadata": {},
   "outputs": [
    {
     "name": "stdout",
     "output_type": "stream",
     "text": [
      "Predicted class: [2]\n"
     ]
    }
   ],
   "source": [
    "# Predict with the loaded model\n",
    "sample_text = ['The bank added 10 late fees for insufficient funds.']\n",
    "sample_tfidf = loaded_vectorizer.transform(sample_text)\n",
    "predicted_class = loaded_model.predict(sample_tfidf)\n",
    "print(\"Predicted class:\", predicted_class)"
   ]
  },
  {
   "cell_type": "code",
   "execution_count": null,
   "id": "4325fe5a-2f9b-4793-b45a-6293cabb2cd0",
   "metadata": {},
   "outputs": [],
   "source": []
  }
 ],
 "metadata": {
  "kernelspec": {
   "display_name": "Python 3 (ipykernel)",
   "language": "python",
   "name": "python3"
  },
  "language_info": {
   "codemirror_mode": {
    "name": "ipython",
    "version": 3
   },
   "file_extension": ".py",
   "mimetype": "text/x-python",
   "name": "python",
   "nbconvert_exporter": "python",
   "pygments_lexer": "ipython3",
   "version": "3.10.13"
  }
 },
 "nbformat": 4,
 "nbformat_minor": 5
}
