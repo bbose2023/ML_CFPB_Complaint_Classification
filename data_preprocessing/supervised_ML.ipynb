{
 "cells": [
  {
   "cell_type": "code",
   "execution_count": 6,
   "id": "ae5430d4-6ab2-4836-9d79-a3673e6ce8b2",
   "metadata": {},
   "outputs": [],
   "source": [
    "import pandas as pd  \n",
    "from sklearn.feature_extraction.text import TfidfVectorizer\n",
    "from sklearn.cluster import KMeans\n",
    "from sklearn.decomposition import PCA\n",
    "import matplotlib.pyplot as plt\n",
    "from sklearn.decomposition import TruncatedSVD\n"
   ]
  },
  {
   "cell_type": "code",
   "execution_count": 8,
   "id": "b334bf2c-5594-49b2-86be-644c53889dd4",
   "metadata": {},
   "outputs": [
    {
     "name": "stdout",
     "output_type": "stream",
     "text": [
      "<class 'pandas.core.frame.DataFrame'>\n",
      "RangeIndex: 7684 entries, 0 to 7683\n",
      "Data columns (total 2 columns):\n",
      " #   Column                        Non-Null Count  Dtype \n",
      "---  ------                        --------------  ----- \n",
      " 0   Product                       7684 non-null   object\n",
      " 1   Consumer complaint narrative  7684 non-null   object\n",
      "dtypes: object(2)\n",
      "memory usage: 120.2+ KB\n"
     ]
    }
   ],
   "source": [
    "file_loc = \"../Resources/ModelData/train_test_data.csv\"\n",
    "customer_complaints_df = pd.read_csv(file_loc)\n",
    "customer_complaints_df.info()"
   ]
  },
  {
   "cell_type": "code",
   "execution_count": 20,
   "id": "62725961-70dc-41d9-b0d6-520f41c39ac8",
   "metadata": {},
   "outputs": [
    {
     "name": "stdout",
     "output_type": "stream",
     "text": [
      "0       Checking or savings account\n",
      "1                       Credit card\n",
      "2                       Credit card\n",
      "3                       Credit card\n",
      "4       Checking or savings account\n",
      "                   ...             \n",
      "7679                    Credit card\n",
      "7680                    Credit card\n",
      "7681    Checking or savings account\n",
      "7682                    Credit card\n",
      "7683    Checking or savings account\n",
      "Name: Product, Length: 7684, dtype: object\n",
      "[0 1 1 ... 0 1 0]\n",
      "[1 0 0 ... 0 1 0]\n",
      "=== Logistic Regression Results ===\n",
      "Accuracy: 0.9238776837996097\n",
      "              precision    recall  f1-score   support\n",
      "\n",
      "           0       0.92      0.93      0.92       755\n",
      "           1       0.93      0.92      0.92       782\n",
      "\n",
      "    accuracy                           0.92      1537\n",
      "   macro avg       0.92      0.92      0.92      1537\n",
      "weighted avg       0.92      0.92      0.92      1537\n",
      "\n"
     ]
    }
   ],
   "source": [
    "from sklearn.model_selection import train_test_split\n",
    "from sklearn.ensemble import RandomForestClassifier\n",
    "from sklearn.metrics import classification_report, accuracy_score\n",
    "from sklearn.compose import ColumnTransformer\n",
    "from sklearn.pipeline import Pipeline\n",
    "from sklearn.preprocessing import LabelEncoder\n",
    "from sklearn.preprocessing import OneHotEncoder\n",
    "from sklearn.linear_model import LogisticRegression\n",
    "from sklearn.metrics import confusion_matrix, ConfusionMatrixDisplay\n",
    "\n",
    "# Extract features and target\n",
    "X = customer_complaints_df['Consumer complaint narrative']\n",
    "y = customer_complaints_df['Product']\n",
    "print(y)\n",
    "# Preprocess categorical features using one-hot encoding\n",
    "label_encoder = LabelEncoder()\n",
    "labels = customer_complaints_df['Product']\n",
    "y = label_encoder.fit_transform(labels)\n",
    "\n",
    "\n",
    "# Split the data into training and testing sets\n",
    "X_train, X_test, y_train, y_test = train_test_split(X, y, test_size=0.2, random_state=42)\n",
    "\n",
    "# Convert text data to TF-IDF features\n",
    "tfidf_vectorizer = TfidfVectorizer(max_features=5000)  # Use the top 5000 words\n",
    "X_train_tfidf = tfidf_vectorizer.fit_transform(X_train)\n",
    "X_test_tfidf = tfidf_vectorizer.transform(X_test)\n",
    "\n",
    "\n",
    "# Train a Logistic Regression model\n",
    "model = LogisticRegression(max_iter=1000, random_state=42)\n",
    "model.fit(X_train_tfidf, y_train)\n",
    "\n",
    "# Make predictions\n",
    "y_pred = model.predict(X_test_tfidf)\n",
    "\n",
    "# Evaluate Random Forest\n",
    "print(\"=== Logistic Regression Results ===\")\n",
    "print(f\"Accuracy: {accuracy_score(y_test, y_pred)}\")\n",
    "print(classification_report(y_test, y_pred_rf))\n",
    "# # Evaluate the model\n",
    "# accuracy = accuracy_score(y_test, y_pred)\n",
    "# classification_rep = classification_report(y_test, y_pred)\n",
    "\n",
    "# accuracy"
   ]
  },
  {
   "cell_type": "code",
   "execution_count": null,
   "id": "d87caadc-45a3-46e6-b6c2-1738cecb6b15",
   "metadata": {},
   "outputs": [],
   "source": [
    "# Function to parse classification report\n",
    "def parse_classification_report(report):\n",
    "    lines = report.strip().split(\"\\n\")\n",
    "    rows = []\n",
    "    for line in lines[1:]:  # Skip header\n",
    "        tokens = line.split()\n",
    "        if len(tokens) < 2:\n",
    "            continue  # Skip empty lines or invalid ones\n",
    "        if tokens[0] in [\"accuracy\", \"macro\", \"weighted\"]:  # Handle summary metrics\n",
    "            metric_name = \" \".join(tokens[:2]) if len(tokens) == 5 else tokens[0]\n",
    "            metrics = tokens[-3:]\n",
    "            rows.append([metric_name] + [None] + metrics)\n",
    "        else:\n",
    "            label = \" \".join(tokens[:-4])\n",
    "            metrics = tokens[-4:]\n",
    "            rows.append([label] + metrics)\n",
    "\n",
    "    return pd.DataFrame(rows, columns=[\"Class\", \"Precision\", \"Recall\", \"F1-Score\", \"Support\"])\n",
    "# Evaluate Random Forest\n",
    "print(\"=== Logistic Regression Results ===\")\n",
    "print(f\"Accuracy: {accuracy_score(y_test, y_pred)}\")\n",
    "print(classification_report(y_test, y_pred))\n",
    "# # Convert report to DataFrame\n",
    "# report_df = parse_classification_report(classification_rep)\n",
    "\n",
    "# # Display the DataFrame\n",
    "# print(report_df)"
   ]
  },
  {
   "cell_type": "code",
   "execution_count": 13,
   "id": "d98aba65-3245-4971-b366-335afd6c5a67",
   "metadata": {},
   "outputs": [
    {
     "name": "stdout",
     "output_type": "stream",
     "text": [
      "Mean Absolute Error (MAE): 0.08067664281067013\n",
      "Mean Squared Error (MSE): 0.08067664281067013\n",
      "R-squared (R2): 0.6771938144679122\n"
     ]
    }
   ],
   "source": [
    "from sklearn.metrics import mean_absolute_error, mean_squared_error, r2_score\n",
    "mae = mean_absolute_error(y_test, y_pred)\n",
    "mse = mean_squared_error(y_test, y_pred)\n",
    "r2 = r2_score(y_test, y_pred)\n",
    "\n",
    "print(f\"Mean Absolute Error (MAE): {mae}\")\n",
    "print(f\"Mean Squared Error (MSE): {mse}\")\n",
    "print(f\"R-squared (R2): {r2}\")"
   ]
  },
  {
   "cell_type": "code",
   "execution_count": 23,
   "id": "77c0b021-96ed-49be-9a73-99ba65fef5c6",
   "metadata": {},
   "outputs": [
    {
     "data": {
      "image/png": "[encoded data removed]",
      "text/plain": [
       "<Figure size 800x600 with 2 Axes>"
      ]
     },
     "metadata": {},
     "output_type": "display_data"
    }
   ],
   "source": [
    "import seaborn as sns\n",
    "from sklearn.metrics import confusion_matrix, ConfusionMatrixDisplay\n",
    "# Generate confusion matrix\n",
    "conf_matrix = confusion_matrix(y_test, y_pred)\n",
    "conf_matrix\n",
    "# Visualize confusion matrix\n",
    "conf_matrix = confusion_matrix(y_test, y_pred)\n",
    "fig, ax = plt.subplots(figsize=(8,6))\n",
    "sns.heatmap(conf_matrix, annot=True, fmt=\"d\", cmap=\"BuPu\",xticklabels=customer_complaints_df['Product'].unique(),yticklabels=customer_complaints_df['Product'].unique())\n",
    "plt.ylabel('Actual')\n",
    "plt.xlabel('Predicted')\n",
    "# Save the plot\n",
    "plt.savefig(\"../images/confusion_matrix_heatmap_for_logistic_regression.png\")\n",
    "plt.show()"
   ]
  },
  {
   "cell_type": "code",
   "execution_count": 16,
   "id": "d3cf3455-532b-493b-bbc1-04882eb62d48",
   "metadata": {},
   "outputs": [
    {
     "name": "stdout",
     "output_type": "stream",
     "text": [
      "Model and vectorizer saved with pickle.\n"
     ]
    }
   ],
   "source": [
    "import pickle\n",
    "\n",
    "# Save the model\n",
    "with open('../Resources/ModelData/supervised_model.pkl', 'wb') as model_file:\n",
    "    pickle.dump(model, model_file)\n",
    "\n",
    "# Save the vectorizer\n",
    "with open('../Resources/ModelData/tfidf_vectorizer.pkl', 'wb') as vectorizer_file:\n",
    "    pickle.dump(tfidf_vectorizer, vectorizer_file)\n",
    "\n",
    "print(\"Model and vectorizer saved with pickle.\")"
   ]
  },
  {
   "cell_type": "markdown",
   "id": "47eaa8cf-2479-47ea-b5ce-d93f55190a87",
   "metadata": {},
   "source": [
    "## Random Forest Model"
   ]
  },
  {
   "cell_type": "code",
   "execution_count": null,
   "id": "f1ba4230-0ba2-4fd0-8261-faac1496fd19",
   "metadata": {},
   "outputs": [],
   "source": [
    "# from sklearn.ensemble import RandomForestClassifier\n",
    "\n",
    "# # Train Random Forest Classifier\n",
    "# rf_model = RandomForestClassifier(n_estimators=100, random_state=42)\n",
    "# rf_model.fit(X_train_tfidf, y_train)\n",
    "\n",
    "# # Predict with Random Forest\n",
    "# y_pred_rf = rf_model.predict(X_test_tfidf)\n",
    "\n",
    "# # Evaluate Random Forest\n",
    "# print(\"=== Random Forest Results ===\")\n",
    "# print(f\"Accuracy: {accuracy_score(y_test, y_pred_rf)}\")"
   ]
  },
  {
   "cell_type": "code",
   "execution_count": null,
   "id": "77a5496d-85f7-4bd3-a542-bbe830adf35b",
   "metadata": {},
   "outputs": [],
   "source": [
    "# import pickle\n",
    "\n",
    "# # Save the model\n",
    "# with open('../Resources/ModelData/random_forest_model.pkl', 'wb') as model_file:\n",
    "#     pickle.dump(model, model_file)\n",
    "\n",
    "# # Save the vectorizer\n",
    "# with open('../Resources/ModelData/tfidf_vectorizer.pkl', 'wb') as vectorizer_file:\n",
    "#     pickle.dump(tfidf_vectorizer, vectorizer_file)\n",
    "\n",
    "# print(\"Random Forest Model and vectorizer saved with pickle.\")"
   ]
  },
  {
   "cell_type": "code",
   "execution_count": 41,
   "id": "6fda643f-c195-4e9e-bd60-311f8f098b44",
   "metadata": {},
   "outputs": [
    {
     "name": "stdout",
     "output_type": "stream",
     "text": [
      "Predicted class: [0]\n"
     ]
    }
   ],
   "source": [
    "# # Load the model\n",
    "# with open('../Resources/ModelData/random_forest_model.pkl', 'rb') as model_file:\n",
    "#     loaded_model = pickle.load(model_file)\n",
    "\n",
    "# # Load the vectorizer\n",
    "# with open('../Resources/ModelData/tfidf_vectorizer.pkl', 'rb') as vectorizer_file:\n",
    "#     loaded_vectorizer = pickle.load(vectorizer_file)\n",
    "\n",
    "# # Predict with the loaded model\n",
    "# sample_text = ['Because of my health problems I was unable to pay my bills on time. The bank added 10 late fees for insufficient funds. I asked for reimbursement but was denied. The fees are XXXX XXXX {$35.00} each= {$350.00}']\n",
    "# sample_tfidf = loaded_vectorizer.transform(sample_text)\n",
    "# predicted_class = loaded_model.predict(sample_tfidf)\n",
    "# print(\"Predicted class:\", predicted_class)"
   ]
  }
 ],
 "metadata": {
  "kernelspec": {
   "display_name": "Python 3 (ipykernel)",
   "language": "python",
   "name": "python3"
  },
  "language_info": {
   "codemirror_mode": {
    "name": "ipython",
    "version": 3
   },
   "file_extension": ".py",
   "mimetype": "text/x-python",
   "name": "python",
   "nbconvert_exporter": "python",
   "pygments_lexer": "ipython3",
   "version": "3.10.14"
  }
 },
 "nbformat": 4,
 "nbformat_minor": 5
}
