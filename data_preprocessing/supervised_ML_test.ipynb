{
 "cells": [
  {
   "cell_type": "code",
   "execution_count": 1,
   "id": "1b5a98df-9ae0-45a3-a9da-25c7ce419c0e",
   "metadata": {},
   "outputs": [],
   "source": [
    "import pickle"
   ]
  },
  {
   "cell_type": "code",
   "execution_count": 3,
   "id": "dc600796-236d-4d38-9fa1-c1bdaac9ac8e",
   "metadata": {},
   "outputs": [],
   "source": [
    "# Load the model\n",
    "with open('Resources/ModelData/supervised_model.pkl', 'rb') as model_file:\n",
    "    loaded_model = pickle.load(model_file)\n",
    "\n",
    "# Load the vectorizer\n",
    "with open('Resources/ModelData/tfidf_vectorizer.pkl', 'rb') as vectorizer_file:\n",
    "    loaded_vectorizer = pickle.load(vectorizer_file)\n"
   ]
  },
  {
   "cell_type": "code",
   "execution_count": 4,
   "id": "b74dd5dd-99e4-4165-baf1-cd30378e40e5",
   "metadata": {},
   "outputs": [
    {
     "name": "stdout",
     "output_type": "stream",
     "text": [
      "Predicted class: [1]\n"
     ]
    }
   ],
   "source": [
    "# Predict with the loaded model\n",
    "sample_text = ['''The person opened an account with Capital One on XX/XX/XXXX ; the individual account was current prior to the XXXX pandemic. The global pandemic ( XXXX XXXXXXXX ) hindered the consumer from making payments on time. To ensure the consumer was protected throughout that difficult time, The Cares Act was implemented to prevent lenders from reporting late payments to credit reporting companies during XXXX. The Cares Act did not end until XX/XX/XXXX, but XXXX XXXX was reporting XXXX XXXX XXXX. Under this obligation the credit account was current before the accommodation and the consumer makes the payments pursuant to the accommodation, is not required to make one or more payments pursuant to the accommodation, or the consumer brings the credit account or obligation current. Under FCRA Section 623 ( a ) generally prohibits a person from furnishing inaccurate information to the CRA.''']\n",
    "sample_tfidf = loaded_vectorizer.transform(sample_text)\n",
    "predicted_class = loaded_model.predict(sample_tfidf)\n",
    "print(\"Predicted class:\", predicted_class)"
   ]
  },
  {
   "cell_type": "code",
   "execution_count": null,
   "id": "1f33ef92-aab2-49c2-886f-b505d2aa6b18",
   "metadata": {},
   "outputs": [],
   "source": []
  }
 ],
 "metadata": {
  "kernelspec": {
   "display_name": "Python 3 (ipykernel)",
   "language": "python",
   "name": "python3"
  },
  "language_info": {
   "codemirror_mode": {
    "name": "ipython",
    "version": 3
   },
   "file_extension": ".py",
   "mimetype": "text/x-python",
   "name": "python",
   "nbconvert_exporter": "python",
   "pygments_lexer": "ipython3",
   "version": "3.10.14"
  }
 },
 "nbformat": 4,
 "nbformat_minor": 5
}
