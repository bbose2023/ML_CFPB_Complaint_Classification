{
 "cells": [
  {
   "cell_type": "code",
   "execution_count": 1,
   "id": "8e255a93-2645-479b-83d0-c4c6f6f62193",
   "metadata": {},
   "outputs": [],
   "source": [
    "# Import our dependencies\n",
    "from sklearn.model_selection import train_test_split\n",
    "from sklearn.feature_extraction.text import TfidfVectorizer\n",
    "from sklearn.preprocessing import LabelEncoder\n",
    "from sklearn.preprocessing import StandardScaler\n",
    "from sklearn import metrics\n",
    "import pandas as pd\n",
    "import tensorflow as tf\n",
    "import numpy as np\n",
    "import nltk\n",
    "import re\n",
    "from nltk.tokenize import sent_tokenize, word_tokenize\n",
    "from nltk.tokenize import word_tokenize\n",
    "from nltk.corpus import stopwords\n",
    "from nltk.stem import WordNetLemmatizer\n",
    "import tensorflow as tf\n",
    "from tensorflow.keras.models import Sequential\n",
    "from tensorflow.keras.preprocessing.text import Tokenizer\n",
    "from tensorflow.keras.layers import Embedding, LSTM, Dense, Dropout\n",
    "from tensorflow.keras.optimizers import Adam\n",
    "from keras.preprocessing.sequence import pad_sequences\n",
    "from tensorflow.keras.preprocessing.text import Tokenizer\n",
    "from tensorflow.keras.preprocessing.sequence import pad_sequences\n",
    "from tensorflow.keras.utils import to_categorical\n",
    "from tensorflow.keras.layers import Dense, Input, LSTM, Embedding, Dropout, Activation\n",
    "from tensorflow.keras.layers import Bidirectional, GlobalMaxPool1D, Conv1D, SimpleRNN\n",
    "from tensorflow.keras.models import Model\n",
    "from tensorflow.keras.models import Sequential\n",
    "from tensorflow.keras import initializers, regularizers, constraints, optimizers, layers\n",
    "from tensorflow.keras.layers import Dense, Input, Flatten, Dropout, BatchNormalization\n",
    "from tensorflow.keras.layers import Conv1D, MaxPooling1D, Embedding\n",
    "from tensorflow.keras.models import Sequential"
   ]
  },
  {
   "cell_type": "code",
   "execution_count": 2,
   "id": "c6f2b7ac-6354-4dbf-8bed-a83e40757739",
   "metadata": {},
   "outputs": [
    {
     "name": "stderr",
     "output_type": "stream",
     "text": [
      "[nltk_data] Downloading package punkt to\n",
      "[nltk_data]     C:\\Users\\manas\\AppData\\Roaming\\nltk_data...\n",
      "[nltk_data]   Package punkt is already up-to-date!\n",
      "[nltk_data] Downloading package stopwords to\n",
      "[nltk_data]     C:\\Users\\manas\\AppData\\Roaming\\nltk_data...\n",
      "[nltk_data]   Package stopwords is already up-to-date!\n",
      "[nltk_data] Downloading package wordnet to\n",
      "[nltk_data]     C:\\Users\\manas\\AppData\\Roaming\\nltk_data...\n",
      "[nltk_data]   Package wordnet is already up-to-date!\n"
     ]
    },
    {
     "data": {
      "text/plain": [
       "True"
      ]
     },
     "execution_count": 2,
     "metadata": {},
     "output_type": "execute_result"
    }
   ],
   "source": [
    "# Download required NLTK datasets\n",
    "nltk.download('punkt')\n",
    "nltk.download('stopwords')\n",
    "nltk.download('wordnet')"
   ]
  },
  {
   "cell_type": "code",
   "execution_count": 3,
   "id": "f0c7db91-cb17-476d-b780-542337957337",
   "metadata": {},
   "outputs": [
    {
     "data": {
      "text/html": [
       "<div>\n",
       "<style scoped>\n",
       "    .dataframe tbody tr th:only-of-type {\n",
       "        vertical-align: middle;\n",
       "    }\n",
       "\n",
       "    .dataframe tbody tr th {\n",
       "        vertical-align: top;\n",
       "    }\n",
       "\n",
       "    .dataframe thead th {\n",
       "        text-align: right;\n",
       "    }\n",
       "</style>\n",
       "<table border=\"1\" class=\"dataframe\">\n",
       "  <thead>\n",
       "    <tr style=\"text-align: right;\">\n",
       "      <th></th>\n",
       "      <th>Product</th>\n",
       "      <th>Consumer complaint narrative</th>\n",
       "    </tr>\n",
       "  </thead>\n",
       "  <tbody>\n",
       "    <tr>\n",
       "      <th>0</th>\n",
       "      <td>Credit card</td>\n",
       "      <td>16 date description debit 60 2 purchase 30 9 6...</td>\n",
       "    </tr>\n",
       "    <tr>\n",
       "      <th>1</th>\n",
       "      <td>Checking or savings account</td>\n",
       "      <td>due longer since notified dollar received leav...</td>\n",
       "    </tr>\n",
       "    <tr>\n",
       "      <th>2</th>\n",
       "      <td>Credit card</td>\n",
       "      <td>fcra asked due longer since please ive 19 plen...</td>\n",
       "    </tr>\n",
       "    <tr>\n",
       "      <th>3</th>\n",
       "      <td>Credit card</td>\n",
       "      <td>unwanted letter due additional alert received ...</td>\n",
       "    </tr>\n",
       "    <tr>\n",
       "      <th>4</th>\n",
       "      <td>Credit card</td>\n",
       "      <td>investigation also prehistoric issue possibly ...</td>\n",
       "    </tr>\n",
       "  </tbody>\n",
       "</table>\n",
       "</div>"
      ],
      "text/plain": [
       "                       Product  \\\n",
       "0                  Credit card   \n",
       "1  Checking or savings account   \n",
       "2                  Credit card   \n",
       "3                  Credit card   \n",
       "4                  Credit card   \n",
       "\n",
       "                        Consumer complaint narrative  \n",
       "0  16 date description debit 60 2 purchase 30 9 6...  \n",
       "1  due longer since notified dollar received leav...  \n",
       "2  fcra asked due longer since please ive 19 plen...  \n",
       "3  unwanted letter due additional alert received ...  \n",
       "4  investigation also prehistoric issue possibly ...  "
      ]
     },
     "execution_count": 3,
     "metadata": {},
     "output_type": "execute_result"
    }
   ],
   "source": [
    "#  Import and read the complaint_data.csv.\n",
    "complaint_Data_df = pd.read_csv(\"../Resources/ModelData/train_test_data.csv\")\n",
    "complaint_Data_df.head()"
   ]
  },
  {
   "cell_type": "code",
   "execution_count": 4,
   "id": "8ca9174e-2f91-4e0b-a68b-bba7e33175e0",
   "metadata": {},
   "outputs": [
    {
     "data": {
      "text/plain": [
       "15712"
      ]
     },
     "execution_count": 4,
     "metadata": {},
     "output_type": "execute_result"
    }
   ],
   "source": [
    "complaint_Data_df.size"
   ]
  },
  {
   "cell_type": "code",
   "execution_count": 5,
   "id": "f3261b18-2995-409e-9747-2d66b9810c24",
   "metadata": {},
   "outputs": [],
   "source": [
    "X = complaint_Data_df['Consumer complaint narrative']  # Features\n",
    "y = complaint_Data_df['Product']  # Target labels"
   ]
  },
  {
   "cell_type": "code",
   "execution_count": 6,
   "id": "24cadbe1-a28f-4c79-8245-0c6d461327ed",
   "metadata": {},
   "outputs": [],
   "source": [
    "#X is our feature set and y is our target variable\n",
    "X_train, X_test, y_train, y_test = train_test_split(\n",
    "    X, y, \n",
    "    test_size=0.2, #20% of the data is allocated to the test set, and 80% to the training set.\n",
    "    stratify=y, #Ensures the distribution of y categories is preserved in the split.\n",
    "    random_state=42\n",
    ")"
   ]
  },
  {
   "cell_type": "code",
   "execution_count": 7,
   "id": "aa4e48c0-605a-4554-984e-329befbad9d9",
   "metadata": {},
   "outputs": [
    {
     "name": "stdout",
     "output_type": "stream",
     "text": [
      "Sample train sequence: [201, 75, 169, 703, 73, 667, 544, 63, 369, 3, 603, 355, 24, 687, 330, 559, 609, 688, 160, 204, 242, 247, 645, 121, 668, 200, 488, 93, 433]\n",
      "Sample test sequence: [54, 27, 860, 67, 98, 16, 349, 4610, 102, 236, 24, 97, 365, 792, 616, 57, 280, 454, 700, 3784, 363, 623, 972, 301, 288, 999, 103, 449, 1111, 130, 1047, 410, 109, 95, 237, 185, 1095, 322, 1245, 129, 269, 110, 1, 14, 281, 26, 551, 3814, 872, 46, 108, 300, 239, 25, 971, 299, 49, 184, 401, 162, 52, 31, 80, 470, 196, 60, 910, 387, 59, 659, 666, 174, 1642, 78, 4, 219, 583, 6, 362, 1513, 121, 3040, 158, 29, 43, 529, 1287, 1182, 233, 71, 35, 920, 1104, 96, 354, 28, 18, 5707, 169, 2940, 1009, 471, 3, 38, 159, 3672, 11, 84, 1067, 76, 48, 1026, 128, 89, 7, 418, 51, 419, 20, 53, 5, 132, 545]\n"
     ]
    }
   ],
   "source": [
    "## Tokenize the text\n",
    "# Define tokenizer with a vocabulary size of 25,000\n",
    "tokenizer = Tokenizer(num_words=25000)\n",
    "\n",
    "# Fit tokenizer on training data\n",
    "tokenizer.fit_on_texts(X_train.values)\n",
    "\n",
    "# Transform training and testing text data into sequences of integers\n",
    "train_sequences = tokenizer.texts_to_sequences(X_train.values)\n",
    "test_sequences = tokenizer.texts_to_sequences(X_test.values)\n",
    "\n",
    "# Print sample outputs for verification\n",
    "print(\"Sample train sequence:\", train_sequences[0])\n",
    "print(\"Sample test sequence:\", test_sequences[0])"
   ]
  },
  {
   "cell_type": "code",
   "execution_count": 8,
   "id": "17326af9-fc7e-4b11-9dbb-5c41013fa99c",
   "metadata": {},
   "outputs": [
    {
     "name": "stdout",
     "output_type": "stream",
     "text": [
      "Found 14092 unique tokens.\n"
     ]
    }
   ],
   "source": [
    "# Extract the word index (mapping of words to their respective indices)\n",
    "word_index = tokenizer.word_index#each unique word (token) in the training data to a unique integer based on the word's frequency\n",
    "print(f'Found {len(word_index)} unique tokens.')#This gives the total number of unique words (tokens) that the Tokenizer encountered during the fitting process"
   ]
  },
  {
   "cell_type": "code",
   "execution_count": 9,
   "id": "e8d6258f-662e-4903-a378-dabf52fdaaa6",
   "metadata": {},
   "outputs": [
    {
     "data": {
      "text/plain": [
       "14093"
      ]
     },
     "execution_count": 9,
     "metadata": {},
     "output_type": "execute_result"
    }
   ],
   "source": [
    "vocabulary_size = len(tokenizer.word_index)+1#Neural networks typically reserve index 0 for padding purposes when processing sequences.Adding +1 ensures that the total vocabulary size accounts for the padding index (0) as well.\n",
    "vocabulary_size"
   ]
  },
  {
   "cell_type": "code",
   "execution_count": null,
   "id": "092168db-1230-4c2b-a711-8dd13196179c",
   "metadata": {},
   "outputs": [],
   "source": [
    "#Knowing the number of unique tokens helps you understand the size of your vocabulary and decide on the num_words parameter for your tokenizer.\n",
    "#For instance, if len(word_index) is 30,000 but you set num_words=25,000, only the 25,000 most frequent words will be used during tokenization, and the rest will be ignored."
   ]
  },
  {
   "cell_type": "code",
   "execution_count": 10,
   "id": "be8b3235-253a-43ea-b055-e5433775ae9b",
   "metadata": {},
   "outputs": [
    {
     "name": "stdout",
     "output_type": "stream",
     "text": [
      "['act consumer reporting nonverbal u 6802 effective immediately authorization credit indefinitely capital one unwritten c 1681 verbal oral may 15 fair written federally xxxx opting per protected given usc'\n",
      " 'due closed pull wasting deceptive received hard elaborate acting bad purchase request approval hurting approved credit explanation pre grocery account card preferred check used refused time applied resulted make remove practice chase store faith 2024 sapphire given digital increase'\n",
      " 'customer loss never ending monthly payment called past feature 320 app situation call representative partnership fnbo almost consumer needed opened 2 bureau first going spoke affect informed double account information collection rep bank every following email statement amount timely directly moved change due since party greenlight stating underpaying changed card department unfair offered would service supervisor month asked paperwork also closed received summer closure pay behind removed made credit told wrong affected structure balance advised prevention named make fee paid 500 confused 00 etc'\n",
      " ...\n",
      " 'changing fraudulent ive well reporting many 2 opened fraud cc never merchant tried one account delinquent card confirmed payment called pin time charge chase additionally verified tell'\n",
      " 'released bank causing without elderly undo upon member stress household information subpoena banking panic key consent'\n",
      " 'letter well customer frustrated thorough never immediately denied police basically security even called item messaged someone unfortunately everything receive action correctly footage drafted communication falsified supposed know date document included first fraudulently detect let amounting bank 1 email job statement truck evaluating delivery screenshots however report return since original asking initial could purchased option pst vendor transaction claim charging receiving submit 480 card name department contact year finally copy capture message would proof service resolved without incorrect created sent system month asked correspondence chargeback received passed fraud shipped complaint contacted unable evidence credit unhelpful america still text told reported 5 technically resubmitted attempt way 3 time already quite home charge recognize filed new believed 00 approve prompt nothing']\n",
      "Max length: 718\n",
      "Average length: 69.32749840865691\n",
      "Median length: 56.0\n",
      "90th percentile: 134.0\n",
      "95th percentile: 168.0\n"
     ]
    }
   ],
   "source": [
    "#this code calculates the lengths of all sequences (number of words in each text) in the X_train dataset and computes summary statistics\n",
    "# Get lengths of all sequences in the dataset\n",
    "sequence_lengths = [len(text.split()) for text in X_train.values]#the number of words in a text in X_train.\n",
    "print( X_train.values)\n",
    "# Compute statistics\n",
    "import numpy as np\n",
    "print(\"Max length:\", np.max(sequence_lengths))\n",
    "print(\"Average length:\", np.mean(sequence_lengths))\n",
    "print(\"Median length:\", np.median(sequence_lengths))\n",
    "print(\"90th percentile:\", np.percentile(sequence_lengths, 90))\n",
    "print(\"95th percentile:\", np.percentile(sequence_lengths, 95))"
   ]
  },
  {
   "cell_type": "code",
   "execution_count": null,
   "id": "5b9b0220-5d2e-49b5-9aa8-184e998c6a0e",
   "metadata": {},
   "outputs": [],
   "source": [
    "#Deep learning models, such as LSTMs or CNNs, require inputs of consistent shape."
   ]
  },
  {
   "cell_type": "code",
   "execution_count": 11,
   "id": "6192edb5-5d34-453b-aa1b-a2cfe7ed4382",
   "metadata": {},
   "outputs": [
    {
     "name": "stdout",
     "output_type": "stream",
     "text": [
      "X_train_data shape: (6284, 718)\n",
      "X_test_data shape: (1572, 718)\n",
      "[[  54   27  860 ...    0    0    0]\n",
      " [  35   28   23 ...    0    0    0]\n",
      " [2632  182    6 ...    0    0    0]\n",
      " ...\n",
      " [1377  101  794 ...    0    0    0]\n",
      " [4922   27   47 ...    0    0    0]\n",
      " [  35   54   28 ...    0    0    0]]\n"
     ]
    }
   ],
   "source": [
    "# Pad sequences to ensure equal length(This approach reduces unnecessary padding while retaining most of the relevant data)\n",
    "X_train_data = pad_sequences(train_sequences, maxlen=718, padding=\"post\", truncating='post')#(Example maxlen based on our data analysis)\n",
    "X_test_data = pad_sequences(test_sequences, maxlen=718, padding=\"post\", truncating='post')#Truncates sequences longer than maxlen from the end.\n",
    "print(f\"X_train_data shape: {X_train_data.shape}\")\n",
    "print(f\"X_test_data shape: {X_test_data.shape}\")\n",
    "print(X_test_data)"
   ]
  },
  {
   "cell_type": "code",
   "execution_count": null,
   "id": "300b1953-a5b5-4f82-8b73-5590995ad385",
   "metadata": {},
   "outputs": [],
   "source": [
    "#LabelEncoder: A preprocessing tool from sklearn used to convert categorical labels (classes) into numerical values.\n"
   ]
  },
  {
   "cell_type": "code",
   "execution_count": 12,
   "id": "83641612-54b9-462c-be6e-3e44f269ef0d",
   "metadata": {},
   "outputs": [
    {
     "name": "stdout",
     "output_type": "stream",
     "text": [
      "Class Mapping: {0: 'Checking or savings account', 1: 'Credit card'}\n",
      "Encoded y_train sample: [1 1 1 1 1]\n"
     ]
    }
   ],
   "source": [
    "from sklearn.preprocessing import LabelEncoder\n",
    "\n",
    "# Initialize the label encoder\n",
    "label_encoder = LabelEncoder()\n",
    "\n",
    "# Fit and transform the training and test target variables\n",
    "y_train_encoded = label_encoder.fit_transform(y_train)\n",
    "y_test_encoded = label_encoder.transform(y_test)\n",
    "\n",
    "# Check the mapping of labels\n",
    "print(\"Class Mapping:\", dict(enumerate(label_encoder.classes_)))\n",
    "print(\"Encoded y_train sample:\", y_train_encoded[:5])"
   ]
  },
  {
   "cell_type": "code",
   "execution_count": 13,
   "id": "3fe1baf5-72c0-4e3a-9830-48a6e7997f8f",
   "metadata": {},
   "outputs": [
    {
     "name": "stdout",
     "output_type": "stream",
     "text": [
      "[[0. 1.]\n",
      " [0. 1.]\n",
      " [0. 1.]\n",
      " ...\n",
      " [0. 1.]\n",
      " [1. 0.]\n",
      " [0. 1.]]\n",
      "Shape of data tensor: (6284, 718)\n",
      "Shape of label tensor: (6284, 2)\n",
      "Shape of label tensor: (1572, 2)\n"
     ]
    }
   ],
   "source": [
    "# Apply one-hot encoding to labels\n",
    "labels_train = to_categorical(np.asarray(y_train_encoded))\n",
    "labels_test = to_categorical(np.asarray(y_test_encoded))\n",
    "# Print shapes again to verify\n",
    "print(labels_train)\n",
    "print('Shape of data tensor:', X_train_data.shape)\n",
    "print('Shape of label tensor:', labels_train.shape)\n",
    "print('Shape of label tensor:', labels_test.shape)"
   ]
  },
  {
   "cell_type": "code",
   "execution_count": 14,
   "id": "a1098adc-5b4b-4bb1-b977-085c245ea9a8",
   "metadata": {},
   "outputs": [
    {
     "name": "stderr",
     "output_type": "stream",
     "text": [
      "C:\\Users\\manas\\anaconda3\\anaconda\\envs\\pythondata\\lib\\site-packages\\keras\\src\\layers\\core\\embedding.py:90: UserWarning: Argument `input_length` is deprecated. Just remove it.\n",
      "  warnings.warn(\n"
     ]
    }
   ],
   "source": [
    "model = Sequential()\n",
    "\n",
    "# Add an embedding layer\n",
    "model.add(Embedding(vocabulary_size,                # Vocabulary size\n",
    "                    output_dim=300,                # Embedding size (vector size)\n",
    "                    input_length=718,              # Maximum length of input sequences\n",
    "                    trainable=True))               # Embeddings are trainable\n",
    "\n",
    "# Add LSTM layer\n",
    "#Bidirectional LSTM\n",
    "model.add(Bidirectional(LSTM(300, dropout = 0.2, recurrent_dropout = 0.2)))\n",
    "\n",
    "# Add Dense output layer for multiclass classification\n",
    "model.add(Dense(2, activation='softmax'))  # 2 classes for multiclass"
   ]
  },
  {
   "cell_type": "code",
   "execution_count": 146,
   "id": "23b005da-c3bf-4fcf-8a5b-480f3f43fced",
   "metadata": {},
   "outputs": [],
   "source": [
    "# Compile the model\n",
    "model.compile(loss='binary_crossentropy', optimizer='adam', metrics=['accuracy'])\n",
    "# Model summary\n",
    "#model.summary()"
   ]
  },
  {
   "cell_type": "code",
   "execution_count": 16,
   "id": "0d026080-f59a-4347-8132-4f57bd74b303",
   "metadata": {},
   "outputs": [
    {
     "name": "stdout",
     "output_type": "stream",
     "text": [
      "Epoch 1/3\n",
      "\u001b[1m99/99\u001b[0m \u001b[32m━━━━━━━━━━━━━━━━━━━━\u001b[0m\u001b[37m\u001b[0m \u001b[1m1251s\u001b[0m 13s/step - accuracy: 0.6949 - loss: 0.5773 - val_accuracy: 0.8931 - val_loss: 0.2773\n",
      "Epoch 2/3\n",
      "\u001b[1m99/99\u001b[0m \u001b[32m━━━━━━━━━━━━━━━━━━━━\u001b[0m\u001b[37m\u001b[0m \u001b[1m1516s\u001b[0m 15s/step - accuracy: 0.9208 - loss: 0.2177 - val_accuracy: 0.8887 - val_loss: 0.2922\n",
      "Epoch 3/3\n",
      "\u001b[1m99/99\u001b[0m \u001b[32m━━━━━━━━━━━━━━━━━━━━\u001b[0m\u001b[37m\u001b[0m \u001b[1m1624s\u001b[0m 16s/step - accuracy: 0.9574 - loss: 0.1360 - val_accuracy: 0.9071 - val_loss: 0.2596\n"
     ]
    }
   ],
   "source": [
    "history = model.fit(X_train_data, labels_train,\n",
    " batch_size=64,\n",
    " epochs=3,\n",
    " validation_data=(X_test_data, labels_test))"
   ]
  },
  {
   "cell_type": "code",
   "execution_count": 33,
   "id": "65361ed7-9a17-4f49-91da-3d2c602e8dfd",
   "metadata": {},
   "outputs": [
    {
     "name": "stdout",
     "output_type": "stream",
     "text": [
      "\u001b[1m50/50\u001b[0m \u001b[32m━━━━━━━━━━━━━━━━━━━━\u001b[0m\u001b[37m\u001b[0m \u001b[1m25s\u001b[0m 496ms/step\n",
      "Predicted classes shape: (1572,)\n",
      "Predicted one-hot shape: (1572, 2)\n"
     ]
    }
   ],
   "source": [
    "# Predict class probabilities\n",
    "predicted = model.predict(X_test_data)\n",
    "\n",
    "# Convert probabilities to class labels\n",
    "predicted_classes = np.argmax(predicted, axis=1)\n",
    "\n",
    "# If you need to convert these back to one-hot encoded format\n",
    "predicted_one_hot = to_categorical(predicted_classes, num_classes=labels_test.shape[1])\n",
    "\n",
    "# Check shapes\n",
    "print(\"Predicted classes shape:\", predicted_classes.shape)\n",
    "print(\"Predicted one-hot shape:\", predicted_one_hot.shape)"
   ]
  },
  {
   "cell_type": "code",
   "execution_count": 34,
   "id": "4692e85c-315e-48b2-8202-11762a4a79a3",
   "metadata": {},
   "outputs": [
    {
     "name": "stdout",
     "output_type": "stream",
     "text": [
      "True labels (converted to class indices): (1572,)\n"
     ]
    }
   ],
   "source": [
    "# Convert one-hot encoded labels to class labels\n",
    "true_classes = np.argmax(labels_test, axis=1)\n",
    "\n",
    "# Check the shapes to make sure they match\n",
    "print(\"True labels (converted to class indices):\", true_classes.shape)\n"
   ]
  },
  {
   "cell_type": "code",
   "execution_count": 35,
   "id": "986a33fe-2314-4fae-889a-e6de21f01c8f",
   "metadata": {},
   "outputs": [
    {
     "name": "stdout",
     "output_type": "stream",
     "text": [
      "Accuracy: 0.9071\n"
     ]
    }
   ],
   "source": [
    "from sklearn.metrics import accuracy_score\n",
    "\n",
    "# Calculate accuracy\n",
    "accuracy = accuracy_score(true_classes, predicted_classes)\n",
    "print(f\"Accuracy: {accuracy:.4f}\")\n"
   ]
  },
  {
   "cell_type": "code",
   "execution_count": 36,
   "id": "d8c64192-e5fe-43c5-8d11-a802a5fd1092",
   "metadata": {},
   "outputs": [
    {
     "name": "stdout",
     "output_type": "stream",
     "text": [
      "              precision    recall  f1-score   support\n",
      "\n",
      "           0       0.89      0.92      0.91       758\n",
      "           1       0.93      0.89      0.91       814\n",
      "\n",
      "    accuracy                           0.91      1572\n",
      "   macro avg       0.91      0.91      0.91      1572\n",
      "weighted avg       0.91      0.91      0.91      1572\n",
      "\n"
     ]
    }
   ],
   "source": [
    "from sklearn.metrics import classification_report\n",
    "\n",
    "# Get classification report\n",
    "print(classification_report(true_classes, predicted_classes))\n"
   ]
  },
  {
   "cell_type": "code",
   "execution_count": 37,
   "id": "2ca9c839-7889-413e-9b6c-0618d567d12d",
   "metadata": {},
   "outputs": [
    {
     "name": "stdout",
     "output_type": "stream",
     "text": [
      "Confusion Matrix:\n",
      " [[700  58]\n",
      " [ 88 726]]\n"
     ]
    }
   ],
   "source": [
    "from sklearn.metrics import confusion_matrix\n",
    "\n",
    "# Confusion matrix\n",
    "cm = confusion_matrix(true_classes, predicted_classes)\n",
    "print(\"Confusion Matrix:\\n\", cm)\n"
   ]
  },
  {
   "cell_type": "code",
   "execution_count": 134,
   "id": "7d548e97-f28d-4fb6-a72b-d52160c0f325",
   "metadata": {},
   "outputs": [
    {
     "data": {
      "image/png": "[encoded data removed]",
      "text/plain": [
       "<Figure size 800x600 with 2 Axes>"
      ]
     },
     "metadata": {},
     "output_type": "display_data"
    }
   ],
   "source": [
    "from sklearn.metrics import confusion_matrix\n",
    "import matplotlib.pyplot as plt\n",
    "import seaborn as sns\n",
    "\n",
    "conf_mat = confusion_matrix(true_classes, predicted_classes)\n",
    "fig, ax = plt.subplots(figsize=(8,6))\n",
    "sns.heatmap(conf_mat, annot=True, fmt=\"d\", cmap=\"BuPu\",xticklabels=complaint_Data_df['Product'].unique(),yticklabels=complaint_Data_df['Product'].unique())\n",
    "plt.ylabel('Actual')\n",
    "plt.xlabel('Predicted')\n",
    "# Save the plot\n",
    "plt.savefig(\"confusion_matrix_heatmap_for_LSTM.png\")\n",
    "plt.show()"
   ]
  },
  {
   "cell_type": "code",
   "execution_count": 144,
   "id": "27bf6866-2852-400c-b186-728762dbfed4",
   "metadata": {},
   "outputs": [],
   "source": [
    "import pickle\n",
    "# open a file where you want to store the data\n",
    "model_lstm_file = open('customer_classification_model_LSTM.pkl','wb')\n",
    "# Dump information to that file\n",
    "pickle.dump(model, model_lstm_file)"
   ]
  },
  {
   "cell_type": "code",
   "execution_count": 132,
   "id": "b304f329-f888-46df-9632-6ed00050d40e",
   "metadata": {},
   "outputs": [
    {
     "name": "stdout",
     "output_type": "stream",
     "text": [
      "\u001b[1m1/1\u001b[0m \u001b[32m━━━━━━━━━━━━━━━━━━━━\u001b[0m\u001b[37m\u001b[0m \u001b[1m0s\u001b[0m 442ms/step\n",
      "[[0.00299367 0.99700636]]\n"
     ]
    }
   ],
   "source": [
    "# Sample data\n",
    "lstm_texts = ['16 date description debit 60 2 purchase 30 9 6 25 credit 100 late 13 50 5 43 56 150 110 1 23 55 payment 21 29 3 66 trans amount 4 45 fee 86 49 7 75 charge 36 170 type posted 00 8 22 10']\n",
    "#lstm_texts1 = ['fee bank process closed alleged resulting negative monthly u balance close failed account request']\n",
    "\n",
    "# Tokenize the text (make sure texts is in a list)\n",
    "lstm_sequences = tokenizer.texts_to_sequences(lstm_texts)\n",
    "\n",
    "# Pad sequences to ensure consistent input length (maxlen is the length expected by your model)\n",
    "lstm_padded_sequences = pad_sequences(lstm_sequences, maxlen=718, padding=\"post\", truncating='post')\n",
    "\n",
    "\n",
    "# Predict using the model\n",
    "predictions_lstm_test = model.predict(lstm_padded_sequences)\n",
    "\n",
    "# Print predictions\n",
    "print(predictions_lstm_test)"
   ]
  },
  {
   "cell_type": "code",
   "execution_count": 133,
   "id": "be3110d0-30e8-454d-b14e-bab6b783b75f",
   "metadata": {},
   "outputs": [
    {
     "name": "stdout",
     "output_type": "stream",
     "text": [
      "Predicted class: [1]\n"
     ]
    }
   ],
   "source": [
    "predicted_lstm_class = np.argmax(predictions_lstm_test, axis=1)\n",
    "print(f\"Predicted class: {predicted_lstm_class}\")\n"
   ]
  },
  {
   "cell_type": "code",
   "execution_count": 39,
   "id": "674fd4fd-b232-4287-a211-dbaaf24283ec",
   "metadata": {},
   "outputs": [],
   "source": [
    "# Build LSTM with pre-trained Glove word embeddings"
   ]
  },
  {
   "cell_type": "code",
   "execution_count": 41,
   "id": "f6af182a-f92e-4671-addf-536629ac202d",
   "metadata": {},
   "outputs": [
    {
     "name": "stdout",
     "output_type": "stream",
     "text": [
      "Found 400000 word vectors.\n"
     ]
    }
   ],
   "source": [
    "# Set the directory where GloVe embeddings are stored\n",
    "import os\n",
    "GLOVE_DIR = r\"resources\\Glove\"  # Update this path to your GloVe directory\n",
    "embeddings_index = {}\n",
    "\n",
    "# Open the GloVe file\n",
    "try:\n",
    "    with open(os.path.join(GLOVE_DIR, 'glove.6B.100d.txt'), encoding='utf-8') as f:\n",
    "        for line in f:\n",
    "            values = line.split()\n",
    "            word = values[0]\n",
    "            coefs = np.asarray(values[1:], dtype='float32')\n",
    "            embeddings_index[word] = coefs\n",
    "except FileNotFoundError:\n",
    "    print(\"Error: GloVe file not found. Check the GLOVE_DIR path.\")\n",
    "    raise\n",
    "\n",
    "print('Found %s word vectors.' % len(embeddings_index))"
   ]
  },
  {
   "cell_type": "code",
   "execution_count": 52,
   "id": "5fc0aa4f-d2da-4019-813c-b38fc42551a7",
   "metadata": {},
   "outputs": [],
   "source": [
    "# create a weight matrix for words in training docs\n",
    "# Initialize an empty embedding matrix\n",
    "embedding_matrix = np.zeros((vocabulary_size, 100))  # Shape: (vocabulary_size, embedding_dim)\n",
    "\n",
    "for word, index in tokenizer.word_index.items():\n",
    "    if index > vocabulary_size - 1:\n",
    "        break  # Stop if index exceeds vocabulary size\n",
    "    else:\n",
    "        # Get the GloVe vector for the word\n",
    "        embedding_vector = embeddings_index.get(word)\n",
    "        if embedding_vector is not None:\n",
    "            # Assign the GloVe vector to the corresponding index in the matrix\n",
    "            embedding_matrix[index] = embedding_vector"
   ]
  },
  {
   "cell_type": "code",
   "execution_count": 53,
   "id": "083583e3-0050-42e0-9cca-ce657a2d93d8",
   "metadata": {},
   "outputs": [
    {
     "name": "stdout",
     "output_type": "stream",
     "text": [
      "Embedding matrix shape: (14093, 100)\n"
     ]
    }
   ],
   "source": [
    "print(f\"Embedding matrix shape: {embedding_matrix.shape}\")\n",
    "# Should output: (vocabulary_size, embedding_dim)"
   ]
  },
  {
   "cell_type": "code",
   "execution_count": 54,
   "id": "8136ac97-a3bb-4f3d-a7fa-4ca7ee6176db",
   "metadata": {},
   "outputs": [
    {
     "data": {
      "text/plain": [
       "[('card', 4)]"
      ]
     },
     "execution_count": 54,
     "metadata": {},
     "output_type": "execute_result"
    }
   ],
   "source": [
    "[(k,v) for k,v in word_index.items() if v==4]"
   ]
  },
  {
   "cell_type": "code",
   "execution_count": 55,
   "id": "d8660d89-c02d-45ac-8563-e080d21e646e",
   "metadata": {},
   "outputs": [
    {
     "data": {
      "text/plain": [
       "array([ 1.62919998e-01, -3.17979991e-01,  4.23280001e-01, -8.67670000e-01,\n",
       "        4.51009989e-01,  5.78570008e-01,  2.66449992e-02, -1.26479998e-01,\n",
       "        3.34650010e-01, -4.20470014e-02, -4.05960009e-02,  1.64780006e-01,\n",
       "       -6.73439980e-01, -3.37509990e-01,  3.59129995e-01,  5.73830009e-01,\n",
       "        8.46199989e-01,  3.63739997e-01,  3.06300014e-01, -6.80499971e-02,\n",
       "       -6.76100016e-01, -1.91469997e-01, -1.45940006e-01,  3.26210004e-03,\n",
       "        6.69489980e-01, -3.35880011e-01,  1.78680003e-01, -3.93599987e-01,\n",
       "        1.77000001e-01, -3.36420000e-01,  1.92880005e-01,  1.00300002e+00,\n",
       "       -2.17940003e-01,  2.42709994e-01,  1.09350002e+00, -1.03030004e-01,\n",
       "       -7.91970015e-01, -1.35059997e-01,  1.21560000e-01, -9.83770013e-01,\n",
       "        1.02999997e+00, -1.02419996e+00,  6.02689981e-01, -1.59860000e-01,\n",
       "       -2.67729998e-01, -5.56299984e-01,  2.58340001e-01, -8.50209966e-02,\n",
       "       -1.52209997e-01, -3.37170005e-01,  2.63579991e-02,  2.31710002e-01,\n",
       "       -1.80559993e-01,  5.71070015e-01,  3.85560006e-01, -1.57319999e+00,\n",
       "       -1.49020001e-01,  3.78260016e-02,  1.84850001e+00,  7.02099979e-01,\n",
       "       -1.16970003e-01,  7.78219998e-02,  7.46200010e-02,  9.95699987e-02,\n",
       "       -2.14269996e-01, -6.00610018e-01,  9.49029997e-02,  8.05890024e-01,\n",
       "        5.53330004e-01, -3.13589990e-01, -9.09910023e-01,  5.36449999e-02,\n",
       "       -1.44940004e-01, -4.85320002e-01,  1.03349999e-01,  1.21819997e+00,\n",
       "       -2.21990004e-01, -1.49339996e-02, -1.13549995e+00,  3.27899992e-01,\n",
       "        1.17330003e+00, -5.28379977e-01, -6.69529974e-01, -6.21089995e-01,\n",
       "       -1.36600006e+00, -4.40519989e-01, -2.95379996e-01, -7.16549993e-01,\n",
       "        5.99200010e-01, -3.45500011e-04, -8.23629975e-01,  9.35720026e-01,\n",
       "        6.21339977e-01, -2.66490012e-01,  9.95950028e-02, -1.15450002e-01,\n",
       "        6.00000024e-01,  7.28340000e-02,  6.64870024e-01, -6.45099998e-01])"
      ]
     },
     "execution_count": 55,
     "metadata": {},
     "output_type": "execute_result"
    }
   ],
   "source": [
    "embedding_matrix[4] "
   ]
  },
  {
   "cell_type": "code",
   "execution_count": 56,
   "id": "dd5da51e-bf45-4b08-bedf-406178c1bf6c",
   "metadata": {},
   "outputs": [],
   "source": [
    "# LSTM with glove"
   ]
  },
  {
   "cell_type": "code",
   "execution_count": 57,
   "id": "a933b719-e8e7-47cf-a293-ad313a8fc0a7",
   "metadata": {},
   "outputs": [],
   "source": [
    "model_lstm_glove = Sequential()\n",
    "\n",
    "# Add an embedding layer\n",
    "# Add an embedding layer\n",
    "model_lstm_glove.add(Embedding(input_dim=14093,                # Vocabulary size\n",
    "                    output_dim=100,                # Embedding size (vector size)\n",
    "                    input_length=718,\n",
    "                    weights=[embedding_matrix],    # Pretrained embeddings# Maximum length of input sequences\n",
    "                    trainable=True))  \n",
    "\n",
    "# Add a bidirectional LSTM layer\n",
    "model_lstm_glove.add(Bidirectional(\n",
    "    LSTM(300, dropout=0.2, recurrent_dropout=0.2)  # Correct dropout arguments\n",
    "))\n",
    "\n",
    "# Add a dense output layer\n",
    "model_lstm_glove.add(Dense(2, activation='softmax'))  # Output layer with 11 classes"
   ]
  },
  {
   "cell_type": "code",
   "execution_count": 59,
   "id": "077800b6-c881-4977-99c9-e4474f377436",
   "metadata": {},
   "outputs": [],
   "source": [
    "# Compile the model\n",
    "model_lstm_glove.compile(\n",
    "    loss='categorical_crossentropy', \n",
    "    optimizer='adam', \n",
    "    metrics=['accuracy']\n",
    ")"
   ]
  },
  {
   "cell_type": "code",
   "execution_count": 61,
   "id": "2c877e11-0719-40a4-86f3-0b5f3e603c5f",
   "metadata": {},
   "outputs": [
    {
     "name": "stdout",
     "output_type": "stream",
     "text": [
      "Epoch 1/4\n",
      "\u001b[1m99/99\u001b[0m \u001b[32m━━━━━━━━━━━━━━━━━━━━\u001b[0m\u001b[37m\u001b[0m \u001b[1m804s\u001b[0m 8s/step - accuracy: 0.8244 - loss: 0.3899 - val_accuracy: 0.8912 - val_loss: 0.2714\n",
      "Epoch 2/4\n",
      "\u001b[1m99/99\u001b[0m \u001b[32m━━━━━━━━━━━━━━━━━━━━\u001b[0m\u001b[37m\u001b[0m \u001b[1m764s\u001b[0m 8s/step - accuracy: 0.8829 - loss: 0.2922 - val_accuracy: 0.8957 - val_loss: 0.2584\n",
      "Epoch 3/4\n",
      "\u001b[1m99/99\u001b[0m \u001b[32m━━━━━━━━━━━━━━━━━━━━\u001b[0m\u001b[37m\u001b[0m \u001b[1m741s\u001b[0m 7s/step - accuracy: 0.9078 - loss: 0.2334 - val_accuracy: 0.9103 - val_loss: 0.2373\n",
      "Epoch 4/4\n",
      "\u001b[1m99/99\u001b[0m \u001b[32m━━━━━━━━━━━━━━━━━━━━\u001b[0m\u001b[37m\u001b[0m \u001b[1m778s\u001b[0m 8s/step - accuracy: 0.9207 - loss: 0.2008 - val_accuracy: 0.9192 - val_loss: 0.2117\n"
     ]
    }
   ],
   "source": [
    "History = model_lstm_glove.fit(X_train_data, labels_train,\n",
    " batch_size=64,\n",
    " epochs=4,\n",
    " validation_data=(X_test_data, labels_test))"
   ]
  },
  {
   "cell_type": "code",
   "execution_count": 62,
   "id": "d463461b-c593-4431-9d08-b0c0b5dc2232",
   "metadata": {},
   "outputs": [
    {
     "name": "stdout",
     "output_type": "stream",
     "text": [
      "\u001b[1m50/50\u001b[0m \u001b[32m━━━━━━━━━━━━━━━━━━━━\u001b[0m\u001b[37m\u001b[0m \u001b[1m76s\u001b[0m 1s/step\n",
      "Predicted classes shape: (1572,)\n",
      "Predicted one-hot shape: (1572, 2)\n"
     ]
    }
   ],
   "source": [
    "# Predict class probabilities\n",
    "predicted1 = model_lstm_glove.predict(X_test_data)\n",
    "\n",
    "# Convert probabilities to class labels\n",
    "predicted_classes1 = np.argmax(predicted1, axis=1)\n",
    "\n",
    "# If you need to convert these back to one-hot encoded format\n",
    "predicted_one_hot1 = to_categorical(predicted_classes1, num_classes=labels_test.shape[1])\n",
    "\n",
    "# Check shapes\n",
    "print(\"Predicted classes shape:\", predicted_classes1.shape)\n",
    "print(\"Predicted one-hot shape:\", predicted_one_hot1.shape)"
   ]
  },
  {
   "cell_type": "code",
   "execution_count": 63,
   "id": "e4f727b7-a902-4283-85d8-eed3e3e10e82",
   "metadata": {},
   "outputs": [
    {
     "name": "stdout",
     "output_type": "stream",
     "text": [
      "True labels (converted to class indices): (1572,)\n"
     ]
    }
   ],
   "source": [
    "# Convert one-hot encoded labels to class labels\n",
    "true_classes1 = np.argmax(labels_test, axis=1)\n",
    "\n",
    "# Check the shapes to make sure they match\n",
    "print(\"True labels (converted to class indices):\", true_classes1.shape)"
   ]
  },
  {
   "cell_type": "code",
   "execution_count": 65,
   "id": "99450293-c70a-424d-843f-51f6e712b86c",
   "metadata": {},
   "outputs": [
    {
     "name": "stdout",
     "output_type": "stream",
     "text": [
      "Accuracy: 0.9192\n"
     ]
    }
   ],
   "source": [
    "Accuracy = accuracy_score(true_classes1, predicted_classes1)\n",
    "print(f\"Accuracy: {Accuracy:.4f}\")\n"
   ]
  },
  {
   "cell_type": "code",
   "execution_count": 137,
   "id": "042dba9d-44a9-4b09-bb16-cd86789c4b15",
   "metadata": {},
   "outputs": [
    {
     "name": "stdout",
     "output_type": "stream",
     "text": [
      "              precision    recall  f1-score   support\n",
      "\n",
      "           0       0.93      0.90      0.91       758\n",
      "           1       0.91      0.94      0.92       814\n",
      "\n",
      "    accuracy                           0.92      1572\n",
      "   macro avg       0.92      0.92      0.92      1572\n",
      "weighted avg       0.92      0.92      0.92      1572\n",
      "\n"
     ]
    }
   ],
   "source": [
    "# Get classification report\n",
    "print(classification_report(true_classes1, predicted_classes1))\n"
   ]
  },
  {
   "cell_type": "code",
   "execution_count": 67,
   "id": "d87b7b4e-5e2e-447b-a1da-cc058b4fbe0a",
   "metadata": {},
   "outputs": [
    {
     "name": "stdout",
     "output_type": "stream",
     "text": [
      "Confusion Matrix:\n",
      " [[680  78]\n",
      " [ 49 765]]\n"
     ]
    }
   ],
   "source": [
    "# Confusion matrix\n",
    "CM= confusion_matrix(true_classes1, predicted_classes1)\n",
    "print(\"Confusion Matrix:\\n\", CM)\n"
   ]
  },
  {
   "cell_type": "code",
   "execution_count": 135,
   "id": "f26ae380-52d8-419a-b13f-b3fcf346d4c4",
   "metadata": {},
   "outputs": [
    {
     "data": {
      "image/png": "[encoded data removed]",
      "text/plain": [
       "<Figure size 800x600 with 2 Axes>"
      ]
     },
     "metadata": {},
     "output_type": "display_data"
    }
   ],
   "source": [
    "\n",
    "#conf_mat = confusion_matrix(true_classes1, predicted_classes1)\n",
    "fig, ax = plt.subplots(figsize=(8,6))\n",
    "sns.heatmap(CM, annot=True, fmt=\"d\", cmap=\"BuPu\",xticklabels=complaint_Data_df['Product'].unique(),yticklabels=complaint_Data_df['Product'].unique())\n",
    "plt.ylabel('Actual')\n",
    "plt.xlabel('Predicted')\n",
    "# Save the plot\n",
    "plt.savefig(\"confusion_matrix_heatmap_for_LSTM_(GLOVE).png\")\n",
    "plt.show()"
   ]
  },
  {
   "cell_type": "code",
   "execution_count": 143,
   "id": "01836a31-05b1-4694-a003-50e28c6bd8c8",
   "metadata": {},
   "outputs": [],
   "source": [
    "import pickle\n",
    "# open a file where you want to store the data\n",
    "model_lstm_glove_file = open('customer_classification_model_LSTM(GLOVE).pkl','wb')\n",
    "# Dump information to that file\n",
    "pickle.dump(model_lstm_glove, model_lstm_glove_file)"
   ]
  },
  {
   "cell_type": "code",
   "execution_count": 128,
   "id": "6cd6063d-7bf3-40c0-915f-4ad11f3d0595",
   "metadata": {},
   "outputs": [
    {
     "name": "stdout",
     "output_type": "stream",
     "text": [
      "\u001b[1m1/1\u001b[0m \u001b[32m━━━━━━━━━━━━━━━━━━━━\u001b[0m\u001b[37m\u001b[0m \u001b[1m0s\u001b[0m 362ms/step\n",
      "[[0.967193   0.03280701]]\n"
     ]
    }
   ],
   "source": [
    "# Sample data\n",
    "#texts = ['16 date description debit 60 2 purchase 30 9 6 25 credit 100 late 13 50 5 43 56 150 110 1 23 55 payment 21 29 3 66 trans amount 4 45 fee 86 49 7 75 charge 36 170 type posted 00 8 22 10']\n",
    "texts1 = ['fee bank process closed alleged resulting negative monthly u balance close failed account request']\n",
    "\n",
    "# Tokenize the text (make sure texts is in a list)\n",
    "sequences = tokenizer.texts_to_sequences(texts1)\n",
    "\n",
    "# Pad sequences to ensure consistent input length (maxlen is the length expected by your model)\n",
    "padded_sequences = pad_sequences(sequences, maxlen=718, padding=\"post\", truncating='post')\n",
    "\n",
    "\n",
    "# Predict using the model\n",
    "predictions_ext_test = model_lstm_glove.predict(padded_sequences)\n",
    "\n",
    "# Print predictions\n",
    "print(predictions_ext_test)"
   ]
  },
  {
   "cell_type": "code",
   "execution_count": 129,
   "id": "a2a93b7c-90f6-4065-8995-44dbd311cd04",
   "metadata": {},
   "outputs": [
    {
     "name": "stdout",
     "output_type": "stream",
     "text": [
      "Predicted class: [0]\n"
     ]
    }
   ],
   "source": [
    "predicted_class2 = np.argmax(predictions_ext_test, axis=1)\n",
    "print(f\"Predicted class: {predicted_class2}\")\n"
   ]
  },
  {
   "cell_type": "code",
   "execution_count": 142,
   "id": "99cb260b-4607-46ef-ac1e-fad4d2d013f2",
   "metadata": {},
   "outputs": [
    {
     "data": {
      "image/png": "[encoded data removed]",
      "text/plain": [
       "<Figure size 1200x600 with 4 Axes>"
      ]
     },
     "metadata": {},
     "output_type": "display_data"
    }
   ],
   "source": [
    "\n",
    "# Plot function\n",
    "def plot_confusion_matrix(conf_matrix, title, ax):\n",
    "    sns.heatmap(conf_matrix, annot=True, fmt=\"d\", cmap=\"Blues\", xticklabels=complaint_Data_df['Product'].unique(), yticklabels=complaint_Data_df['Product'].unique(), ax=ax)\n",
    "    ax.set_title(title)\n",
    "    ax.set_xlabel(\"Predicted\")\n",
    "    ax.set_ylabel(\"Actual\")\n",
    "\n",
    "# Create subplots\n",
    "fig, axes = plt.subplots(1, 2, figsize=(12, 6))\n",
    "plot_confusion_matrix(cm, \"LSTM with Random Embedding\", axes[0])\n",
    "plot_confusion_matrix(CM, \"LSTM with GloVe Embedding\", axes[1])\n",
    "# Save the plot\n",
    "plt.savefig(\"confusion_matrix_heatmap_for_LSTM_and_LSTM_(GLOVE).png\")\n",
    "plt.tight_layout()\n",
    "plt.show()"
   ]
  },
  {
   "cell_type": "code",
   "execution_count": null,
   "id": "d6fa5e18-45d6-4865-9dcd-cac36cb7d5b7",
   "metadata": {},
   "outputs": [],
   "source": []
  }
 ],
 "metadata": {
  "kernelspec": {
   "display_name": "Python 3 (ipykernel)",
   "language": "python",
   "name": "python3"
  },
  "language_info": {
   "codemirror_mode": {
    "name": "ipython",
    "version": 3
   },
   "file_extension": ".py",
   "mimetype": "text/x-python",
   "name": "python",
   "nbconvert_exporter": "python",
   "pygments_lexer": "ipython3",
   "version": "3.10.14"
  }
 },
 "nbformat": 4,
 "nbformat_minor": 5
}
